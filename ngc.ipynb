{
 "cells": [
  {
   "cell_type": "code",
   "execution_count": 46,
   "metadata": {},
   "outputs": [],
   "source": [
    "from astropy.io import fits\n",
    "import sep\n",
    "import pandas as pd\n",
    "import numpy as np\n",
    "import matplotlib.pyplot as plt\n",
    "from matplotlib.patches import Ellipse \n",
    "%matplotlib inline"
   ]
  },
  {
   "cell_type": "code",
   "execution_count": 47,
   "metadata": {},
   "outputs": [],
   "source": [
    "#Load the fits file\n",
    "def load_fits(fileName):\n",
    "    hduList = fits.open(fileName) #Open the file\n",
    "    hduList = fits.open(fileName) #Open the file\n",
    "    #print(hduList.info()) \n",
    "    data = np.array(hduList[0].data)\n",
    "    data = data.byteswap(inplace=True).newbyteorder()\n",
    "    hduList.close() #Close the file\n",
    "    #Summary Statistics\n",
    "    print('Summary', fileName, '| Min:', np.min( data), \"| Max:\", np.max( data), \"| Mean:\", np.mean(  data), \"| Stdev:\", np.std( data))\n",
    "    return data\n",
    "\n",
    "#Plot the fits file\n",
    "def plot_data(fileName, data):\n",
    "    m, s = np.mean(data), np.std(data)\n",
    "    plt.imshow(data, interpolation='nearest', cmap='gray', vmin=m-s, vmax=m+s, origin='lower')\n",
    "    plt.title(f\"Image for {fileName}\")\n",
    "    plt.colorbar()"
   ]
  },
  {
   "cell_type": "code",
   "execution_count": 48,
   "metadata": {},
   "outputs": [],
   "source": [
    "#Estimate + plot background noise\n",
    "def estimate_background(data):\n",
    "    bkg = sep.Background(data) #estimate background noise => background object\n",
    "    print(f\"Background mean: {bkg.globalback} | Background RMS: {bkg.globalrms}\")\n",
    "    bkg_image = bkg.back() # convert to 2d array, equal to np.array(bkg)\n",
    "    #plt.imshow(bkg_image, interpolation='nearest', cmap='gray', origin='lower') #plot background noise\n",
    "    #plt.colorbar()\n",
    "    return bkg\n",
    "\n",
    "#Subtract background noise from data \n",
    "def subtract_background(data, bkg):\n",
    "    data_sub = data - bkg # subtract the background\n",
    "    m, s = np.mean(data_sub), np.std(data_sub)\n",
    "    #plt.imshow(data_sub, interpolation='nearest', cmap='gray', vmin=m-s, vmax=m+s, origin='lower')\n",
    "    #plt.colorbar()\n",
    "    return data_sub\n",
    "\n",
    "def calculate_snr(data, bkg):\n",
    "    signal = np.mean(data) - bkg.globalback  # Calculate the signal as the mean of the data minus the background level\n",
    "    noise = bkg.globalrms  # Estimate the noise as the background RMS\n",
    "    snr = signal / noise  # Calculate the SNR\n",
    "    return snr"
   ]
  },
  {
   "cell_type": "code",
   "execution_count": 49,
   "metadata": {},
   "outputs": [],
   "source": [
    "#Count stars from the data \n",
    "def extract_objects(data_sub, bkg):\n",
    "    thresh = 1.5 # Set the detection threshold to be 1.5 sigma above the background\n",
    "    objects, segmap = sep.extract(data_sub, thresh, err=bkg.globalrms, segmentation_map=True) # detect objects with a detection threshold of 1.5 sigma, where sigma = globalrms\n",
    "    \n",
    "    #Filter out the objects that are too close to the edge of the image\n",
    "    edge_lim = 50 # This sets how far off the image edges we start to include stars\n",
    "    cond1 = (objects['xpeak'] > edge_lim) & (objects['xpeak'] < data_sub.shape[0] - edge_lim) & \\\n",
    "       (objects['ypeak'] > edge_lim) & (objects['ypeak'] < data_sub.shape[1] - edge_lim) # If centroids are within the edge limit, then it is a true detection \n",
    "       \n",
    "    #Filter out hot pixels : Check if the median close to the target pixel is more than thresh*background RMS\n",
    "    #If the median of the area around the target pixel is brighter than the background RMS, then it is a true detection\n",
    "    cond2 = np.zeros(cond1.shape)\n",
    "    for i in range (cond2.shape[0]):\n",
    "        # Check the median close to the target pixel\n",
    "        close_median = np.median(data_sub.T[objects['xpeak'][i] - 1 : objects['xpeak'][i] + 2,\n",
    "                                                    objects['ypeak'][i] - 1 : objects['ypeak'][i] + 2])\n",
    "        if close_median > thresh * bkg.globalrms:\n",
    "            cond2[i] = 1   # If exceeds, then it is a true detection\n",
    "    cond2 = cond2.astype(bool) # Convert to boolean mask\n",
    "    cond_final = np.logical_and(cond1,cond2) # Combine the two conditions \n",
    "    objects = objects[cond_final] # Apply the combined mask to the objects array\n",
    "    print(\"Stars: \", len(objects)) \n",
    "    return np.array(objects) #, segmap\n",
    "\n",
    "#Plot the stars \n",
    "def plot_stars(file, data_sub, objects, segmap):\n",
    "    fig, (ax1, ax2) = plt.subplots(1, 2, figsize=(10, 5))\n",
    "\n",
    "    # Plot the background-subtracted image with ellipses\n",
    "    ax1.imshow(data_sub, cmap='gray', origin='lower')\n",
    "    ax1.set_title('file: ' + file[14:23])\n",
    "\n",
    "    # Plot the segmentation map without ellipses\n",
    "    ax2.imshow(segmap, cmap='jet', origin='lower')\n",
    "    ax2.set_title('Segmentation Map')\n",
    "\n",
    "    # Plot ellipses around the detected stars in the background-subtracted image\n",
    "    for obj in objects:\n",
    "        ellipse = Ellipse(xy=(obj['x'], obj['y']),\n",
    "                          width=6* obj['a'],\n",
    "                          height=6 * obj['b'],\n",
    "                          angle=obj['theta'] * 180.0 / np.pi)\n",
    "        ellipse.set_facecolor('none')\n",
    "        ellipse.set_edgecolor('yellow')\n",
    "        ax1.add_artist(ellipse)\n",
    "        #ax1.text(obj['x'], obj['y'], str(i+1), #code for label; not feasible for large number of stars\n",
    "           #      color='white', fontsize=4, ha='center', va='center')\n",
    "\n",
    "    plt.tight_layout()\n",
    "    plt.show()"
   ]
  },
  {
   "cell_type": "code",
   "execution_count": 54,
   "metadata": {},
   "outputs": [],
   "source": [
    "#dataFiles = [\"data\\\\NGC_1245_b_120_calibrated_stacked.fit\", \"data\\\\NGC_1245_v_120_calibrated_stacked.fit\", \"data\\\\NGC_1245_b_900_calibrated_stacked.fit\", \"data\\\\NGC_1245_v_900_calibrated_stacked.fit\"]\n",
    "\n",
    "def getData(file):\n",
    "  data = load_fits(file)\n",
    "  bkg = estimate_background(data)\n",
    "  data_sub = subtract_background(data, bkg)\n",
    "  return data, data_sub, bkg\n",
    "\n",
    "\n",
    "def getFluxes(data_sub, objects, bkg):\n",
    "    flux, fluxerr, flag = sep.sum_circle(data_sub, objects['x'], objects['y'],\n",
    "                                     3.0, err=bkg.globalrms, gain=1.0)\n",
    "    return flux, fluxerr, flag\n",
    "  \n",
    "  \n",
    "#for file in dataFiles:\n",
    "  #  data, data_sub, bkg = getData(file)\n",
    "  #  objects, segmap = extract_objects(data_sub, bkg)\n",
    "  #  plot_stars(file, data_sub, objects, segmap)\n",
    "  #  print(\"========================================\")"
   ]
  },
  {
   "cell_type": "code",
   "execution_count": 55,
   "metadata": {},
   "outputs": [
    {
     "name": "stdout",
     "output_type": "stream",
     "text": [
      "Summary data\\NGC_1245_b_900_calibrated_stacked.fit | Min: 295.73376 | Max: 883135.3 | Mean: 5710.8955 | Stdev: 2547.5684\n",
      "Background mean: 5643.23779296875 | Background RMS: 54.152748107910156\n"
     ]
    },
    {
     "name": "stderr",
     "output_type": "stream",
     "text": [
      "c:\\Users\\mmann\\anaconda3\\lib\\site-packages\\numpy\\core\\fromnumeric.py:3504: RuntimeWarning: Mean of empty slice.\n",
      "  return _methods._mean(a, axis=axis, dtype=dtype,\n",
      "c:\\Users\\mmann\\anaconda3\\lib\\site-packages\\numpy\\core\\_methods.py:129: RuntimeWarning: invalid value encountered in divide\n",
      "  ret = ret.dtype.type(ret / rcount)\n"
     ]
    },
    {
     "name": "stdout",
     "output_type": "stream",
     "text": [
      "Stars:  1404\n",
      "Summary data\\NGC_1245_v_900_calibrated_stacked.fit | Min: 425.97168 | Max: 970909.9 | Mean: 9407.472 | Stdev: 5766.7773\n",
      "Background mean: 9274.0849609375 | Background RMS: 63.27387237548828\n",
      "Stars:  1840\n"
     ]
    },
    {
     "ename": "ValueError",
     "evalue": "operands could not be broadcast together with shapes (1404,) (1840,) ",
     "output_type": "error",
     "traceback": [
      "\u001b[1;31m---------------------------------------------------------------------------\u001b[0m",
      "\u001b[1;31mValueError\u001b[0m                                Traceback (most recent call last)",
      "Cell \u001b[1;32mIn[55], line 13\u001b[0m\n\u001b[0;32m     10\u001b[0m objects \u001b[39m=\u001b[39m extract_objects(data_sub, bkg)\n\u001b[0;32m     11\u001b[0m greenFlux, greenFluxerr, greenFlag \u001b[39m=\u001b[39m getFluxes(data_sub, objects, bkg)\n\u001b[1;32m---> 13\u001b[0m photom \u001b[39m=\u001b[39m blueFlux \u001b[39m-\u001b[39;49m greenFlux\n\u001b[0;32m     15\u001b[0m sorted_indices \u001b[39m=\u001b[39m photom\u001b[39m.\u001b[39margsort()[::\u001b[39m-\u001b[39m\u001b[39m1\u001b[39m]\n\u001b[0;32m     16\u001b[0m sorted_flux \u001b[39m=\u001b[39m photom[sorted_indices]\n",
      "\u001b[1;31mValueError\u001b[0m: operands could not be broadcast together with shapes (1404,) (1840,) "
     ]
    }
   ],
   "source": [
    "file = \"data\\\\NGC_1245_b_900_calibrated_stacked.fit\"\n",
    "\n",
    "data, data_sub, bkg = getData(file)\n",
    "objects = extract_objects(data_sub, bkg)\n",
    "blueFlux, blueFluxerr, blueFlag = getFluxes(data_sub, objects, bkg)\n",
    "    \n",
    "file = \"data\\\\NGC_1245_v_900_calibrated_stacked.fit\"\n",
    "\n",
    "data, data_sub, bkg = getData(file)\n",
    "objects = extract_objects(data_sub, bkg)\n",
    "greenFlux, greenFluxerr, greenFlag = getFluxes(data_sub, objects, bkg)\n",
    "\n",
    "photom = blueFlux - greenFlux\n",
    "\n",
    "sorted_indices = photom.argsort()[::-1]\n",
    "sorted_flux = photom[sorted_indices]\n",
    "sorted_x = objects['x'][sorted_indices]\n",
    "sorted_y = objects['y'][sorted_indices]\n",
    "\n",
    "# Plot the scatterplot\n",
    "plt.scatter(sorted_x, sorted_y, c=sorted_flux, cmap='viridis')\n",
    "plt.colorbar(label='Flux')\n",
    "plt.title('Brightest Objects Scatterplot')\n",
    "plt.xlabel('X')\n",
    "plt.ylabel('Y')\n",
    "plt.show()\n"
   ]
  }
 ],
 "metadata": {
  "kernelspec": {
   "display_name": "base",
   "language": "python",
   "name": "python3"
  },
  "language_info": {
   "codemirror_mode": {
    "name": "ipython",
    "version": 3
   },
   "file_extension": ".py",
   "mimetype": "text/x-python",
   "name": "python",
   "nbconvert_exporter": "python",
   "pygments_lexer": "ipython3",
   "version": "3.10.9"
  },
  "orig_nbformat": 4
 },
 "nbformat": 4,
 "nbformat_minor": 2
}
